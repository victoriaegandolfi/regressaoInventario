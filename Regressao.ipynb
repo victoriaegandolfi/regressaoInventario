{
 "cells": [
  {
   "cell_type": "markdown",
   "id": "6fb28a58",
   "metadata": {},
   "source": [
    "# Regressão\n",
    "\n",
    "Esse projeto tem como objetivo rodar diferentes algoritmos de regressão e selecionar o que melhor desempenha predições na base de dados.\n",
    "\n",
    "Para esse fim, o projeto se divide nos seguintes tópicos:\n",
    "\n",
    "I) Uma variável preditora\n",
    "\n",
    "1. Regressão liner simples\n",
    "2. Regressão polinomial\n",
    "3. Avaliação dos modelos\n",
    "\n",
    "II) Múltiplas variáveis preditoras\n",
    "\n",
    "4. Regressão linear múltipla \n",
    "5. Padronização\n",
    "6. Regularização\n",
    "7. Árvore de decisão\n",
    "9. Avaliação dos modelos "
   ]
  },
  {
   "cell_type": "code",
   "execution_count": 1,
   "id": "8a86fa3f",
   "metadata": {},
   "outputs": [],
   "source": [
    "import pandas as pd\n",
    "import numpy as np\n",
    "import matplotlib.pyplot as plt\n",
    "import seaborn as sns\n",
    "import sklearn as sk\n",
    "import sklearn.metrics as metrics\n",
    "from sklearn.model_selection import train_test_split, cross_val_score\n",
    "from sklearn import linear_model\n",
    "from sklearn.linear_model import LinearRegression\n",
    "from sklearn import metrics\n",
    "from sklearn.preprocessing import PolynomialFeatures\n",
    "from sklearn.pipeline import make_pipeline\n",
    "from sklearn.preprocessing import StandardScaler\n",
    "from statsmodels.stats.outliers_influence import variance_inflation_factor\n",
    "from sklearn.linear_model import Ridge, Lasso, ElasticNet\n",
    "from sklearn.datasets import make_regression\n",
    "from sklearn import tree\n",
    "from sklearn.datasets import load_boston\n",
    "from sklearn.model_selection import cross_val_score\n",
    "import xgboost as xgb"
   ]
  },
  {
   "cell_type": "code",
   "execution_count": 2,
   "id": "85c02f09",
   "metadata": {},
   "outputs": [],
   "source": [
    "def regression_results(y_true, y_pred):\n",
    "\n",
    "    # Regression metrics\n",
    "    explained_variance=metrics.explained_variance_score(y_true, y_pred)\n",
    "    mean_absolute_error=metrics.mean_absolute_error(y_true, y_pred) \n",
    "    mse=metrics.mean_squared_error(y_true, y_pred) \n",
    "    mean_squared_log_error=metrics.mean_squared_log_error(y_true, y_pred)\n",
    "    median_absolute_error=metrics.median_absolute_error(y_true, y_pred)\n",
    "    r2=metrics.r2_score(y_true, y_pred)\n",
    "\n",
    "    print('explained_variance: ', round(explained_variance,4))    \n",
    "    print('mean_squared_log_error: ', round(mean_squared_log_error,4))\n",
    "    print('r2: ', round(r2,4))\n",
    "    print('MAE: ', round(mean_absolute_error,4))\n",
    "    print('MSE: ', round(mse,4))\n",
    "    print('RMSE: ', round(np.sqrt(mse),4))"
   ]
  },
  {
   "cell_type": "code",
   "execution_count": 3,
   "id": "3955bae7",
   "metadata": {},
   "outputs": [
    {
     "data": {
      "text/html": [
       "<div>\n",
       "<style scoped>\n",
       "    .dataframe tbody tr th:only-of-type {\n",
       "        vertical-align: middle;\n",
       "    }\n",
       "\n",
       "    .dataframe tbody tr th {\n",
       "        vertical-align: top;\n",
       "    }\n",
       "\n",
       "    .dataframe thead th {\n",
       "        text-align: right;\n",
       "    }\n",
       "</style>\n",
       "<table border=\"1\" class=\"dataframe\">\n",
       "  <thead>\n",
       "    <tr style=\"text-align: right;\">\n",
       "      <th></th>\n",
       "      <th>order_id</th>\n",
       "      <th>code</th>\n",
       "      <th>quantity</th>\n",
       "      <th>price</th>\n",
       "      <th>pis_cofins</th>\n",
       "      <th>icms</th>\n",
       "      <th>tax_substitution</th>\n",
       "      <th>category</th>\n",
       "      <th>liquid_cost</th>\n",
       "      <th>order_status</th>\n",
       "      <th>capture_date</th>\n",
       "      <th>process_date</th>\n",
       "      <th>process_status</th>\n",
       "      <th>source_channel</th>\n",
       "    </tr>\n",
       "  </thead>\n",
       "  <tbody>\n",
       "    <tr>\n",
       "      <th>0</th>\n",
       "      <td>bcb59c839e78b2601374cbad9239ca7b</td>\n",
       "      <td>e6762ba2ffbca07ab6cee7551caeaad5</td>\n",
       "      <td>1</td>\n",
       "      <td>978.90</td>\n",
       "      <td>90.5483</td>\n",
       "      <td>0.0000</td>\n",
       "      <td>191.8416</td>\n",
       "      <td>4ece547755cba9e7fc14125bc895f31b</td>\n",
       "      <td>542.7065</td>\n",
       "      <td>entrega total</td>\n",
       "      <td>2016-06-11</td>\n",
       "      <td>2016-06-11</td>\n",
       "      <td>processado</td>\n",
       "      <td>b76eb9b8fc0f17098812da9117d3e500</td>\n",
       "    </tr>\n",
       "    <tr>\n",
       "      <th>1</th>\n",
       "      <td>4e91ee6b95895771dc9ee524e910a902</td>\n",
       "      <td>e6762ba2ffbca07ab6cee7551caeaad5</td>\n",
       "      <td>1</td>\n",
       "      <td>1036.29</td>\n",
       "      <td>95.8568</td>\n",
       "      <td>176.1693</td>\n",
       "      <td>0.0000</td>\n",
       "      <td>4ece547755cba9e7fc14125bc895f31b</td>\n",
       "      <td>542.7065</td>\n",
       "      <td>em rota de entrega</td>\n",
       "      <td>2016-06-11</td>\n",
       "      <td>2016-06-11</td>\n",
       "      <td>processado</td>\n",
       "      <td>b76eb9b8fc0f17098812da9117d3e500</td>\n",
       "    </tr>\n",
       "    <tr>\n",
       "      <th>2</th>\n",
       "      <td>88eb0ac86af1a521c0831298d22dea8b</td>\n",
       "      <td>e6762ba2ffbca07ab6cee7551caeaad5</td>\n",
       "      <td>1</td>\n",
       "      <td>978.90</td>\n",
       "      <td>90.5483</td>\n",
       "      <td>0.0000</td>\n",
       "      <td>191.8416</td>\n",
       "      <td>4ece547755cba9e7fc14125bc895f31b</td>\n",
       "      <td>542.7065</td>\n",
       "      <td>entrega total</td>\n",
       "      <td>2016-06-12</td>\n",
       "      <td>2016-06-12</td>\n",
       "      <td>processado</td>\n",
       "      <td>b76eb9b8fc0f17098812da9117d3e500</td>\n",
       "    </tr>\n",
       "    <tr>\n",
       "      <th>3</th>\n",
       "      <td>dee418152a36314b4aee6ce9cf94fcbf</td>\n",
       "      <td>e6762ba2ffbca07ab6cee7551caeaad5</td>\n",
       "      <td>1</td>\n",
       "      <td>978.90</td>\n",
       "      <td>90.5483</td>\n",
       "      <td>176.2020</td>\n",
       "      <td>0.0000</td>\n",
       "      <td>4ece547755cba9e7fc14125bc895f31b</td>\n",
       "      <td>542.7065</td>\n",
       "      <td>cancelado</td>\n",
       "      <td>2016-06-13</td>\n",
       "      <td>0000-00-00</td>\n",
       "      <td>captado</td>\n",
       "      <td>b76eb9b8fc0f17098812da9117d3e500</td>\n",
       "    </tr>\n",
       "    <tr>\n",
       "      <th>4</th>\n",
       "      <td>1c175bc61b9b659bbf011b2e5e3dcec6</td>\n",
       "      <td>e6762ba2ffbca07ab6cee7551caeaad5</td>\n",
       "      <td>1</td>\n",
       "      <td>976.05</td>\n",
       "      <td>90.2846</td>\n",
       "      <td>0.0000</td>\n",
       "      <td>192.3325</td>\n",
       "      <td>4ece547755cba9e7fc14125bc895f31b</td>\n",
       "      <td>542.7065</td>\n",
       "      <td>entrega total</td>\n",
       "      <td>2016-06-13</td>\n",
       "      <td>2016-06-13</td>\n",
       "      <td>processado</td>\n",
       "      <td>b76eb9b8fc0f17098812da9117d3e500</td>\n",
       "    </tr>\n",
       "  </tbody>\n",
       "</table>\n",
       "</div>"
      ],
      "text/plain": [
       "                           order_id                              code  \\\n",
       "0  bcb59c839e78b2601374cbad9239ca7b  e6762ba2ffbca07ab6cee7551caeaad5   \n",
       "1  4e91ee6b95895771dc9ee524e910a902  e6762ba2ffbca07ab6cee7551caeaad5   \n",
       "2  88eb0ac86af1a521c0831298d22dea8b  e6762ba2ffbca07ab6cee7551caeaad5   \n",
       "3  dee418152a36314b4aee6ce9cf94fcbf  e6762ba2ffbca07ab6cee7551caeaad5   \n",
       "4  1c175bc61b9b659bbf011b2e5e3dcec6  e6762ba2ffbca07ab6cee7551caeaad5   \n",
       "\n",
       "   quantity    price  pis_cofins      icms  tax_substitution  \\\n",
       "0         1   978.90     90.5483    0.0000          191.8416   \n",
       "1         1  1036.29     95.8568  176.1693            0.0000   \n",
       "2         1   978.90     90.5483    0.0000          191.8416   \n",
       "3         1   978.90     90.5483  176.2020            0.0000   \n",
       "4         1   976.05     90.2846    0.0000          192.3325   \n",
       "\n",
       "                           category  liquid_cost        order_status  \\\n",
       "0  4ece547755cba9e7fc14125bc895f31b     542.7065       entrega total   \n",
       "1  4ece547755cba9e7fc14125bc895f31b     542.7065  em rota de entrega   \n",
       "2  4ece547755cba9e7fc14125bc895f31b     542.7065       entrega total   \n",
       "3  4ece547755cba9e7fc14125bc895f31b     542.7065           cancelado   \n",
       "4  4ece547755cba9e7fc14125bc895f31b     542.7065       entrega total   \n",
       "\n",
       "  capture_date process_date process_status                    source_channel  \n",
       "0   2016-06-11   2016-06-11     processado  b76eb9b8fc0f17098812da9117d3e500  \n",
       "1   2016-06-11   2016-06-11     processado  b76eb9b8fc0f17098812da9117d3e500  \n",
       "2   2016-06-12   2016-06-12     processado  b76eb9b8fc0f17098812da9117d3e500  \n",
       "3   2016-06-13   0000-00-00        captado  b76eb9b8fc0f17098812da9117d3e500  \n",
       "4   2016-06-13   2016-06-13     processado  b76eb9b8fc0f17098812da9117d3e500  "
      ]
     },
     "execution_count": 3,
     "metadata": {},
     "output_type": "execute_result"
    }
   ],
   "source": [
    "df = pd.read_csv('desafio.csv', sep=',')\n",
    "df.head()"
   ]
  },
  {
   "cell_type": "code",
   "execution_count": 4,
   "id": "b77d7938",
   "metadata": {},
   "outputs": [
    {
     "data": {
      "text/plain": [
       "(179149, 14)"
      ]
     },
     "execution_count": 4,
     "metadata": {},
     "output_type": "execute_result"
    }
   ],
   "source": [
    "df.shape"
   ]
  },
  {
   "cell_type": "code",
   "execution_count": 5,
   "id": "fe137518",
   "metadata": {},
   "outputs": [
    {
     "data": {
      "text/plain": [
       "order_id             object\n",
       "code                 object\n",
       "quantity              int64\n",
       "price               float64\n",
       "pis_cofins          float64\n",
       "icms                float64\n",
       "tax_substitution    float64\n",
       "category             object\n",
       "liquid_cost         float64\n",
       "order_status         object\n",
       "capture_date         object\n",
       "process_date         object\n",
       "process_status       object\n",
       "source_channel       object\n",
       "dtype: object"
      ]
     },
     "execution_count": 5,
     "metadata": {},
     "output_type": "execute_result"
    }
   ],
   "source": [
    "df.dtypes"
   ]
  },
  {
   "cell_type": "markdown",
   "id": "efed0aa8",
   "metadata": {},
   "source": [
    "# 1. Regressão linear simples\n",
    "\n",
    "Esse tópico tem o objetivo de rodar um modelo de regressão linear simples. O modelo é composto pela variável preditora (preço) e pela variável resposta (quantidade).\n",
    "\n",
    "Após rodar o modelo, realiza-se a previsão de novos valores para realizar a avaliação do modelo. O modelo se mostra relevante e vai ser comparado com um modelo de regressão polinomial no tópico 3."
   ]
  },
  {
   "cell_type": "code",
   "execution_count": 52,
   "id": "57088fc6",
   "metadata": {},
   "outputs": [],
   "source": [
    "# como avaliar quando os índices são iguais?"
   ]
  },
  {
   "cell_type": "code",
   "execution_count": 6,
   "id": "2b2e1d21",
   "metadata": {},
   "outputs": [
    {
     "data": {
      "text/plain": [
       "<AxesSubplot:xlabel='price', ylabel='quantity'>"
      ]
     },
     "execution_count": 6,
     "metadata": {},
     "output_type": "execute_result"
    },
    {
     "data": {
      "image/png": "[encoded data removed]",
      "text/plain": [
       "<Figure size 432x288 with 1 Axes>"
      ]
     },
     "metadata": {
      "needs_background": "light"
     },
     "output_type": "display_data"
    }
   ],
   "source": [
    "df.plot.scatter(x='price', y='quantity')"
   ]
  },
  {
   "cell_type": "code",
   "execution_count": 7,
   "id": "1194c7e6",
   "metadata": {},
   "outputs": [],
   "source": [
    "features = df.loc[:, ['price', 'quantity']]\n",
    "price = features.iloc[:, :-1].values\n",
    "quantity = features.iloc[:, 1].values"
   ]
  },
  {
   "cell_type": "code",
   "execution_count": 8,
   "id": "856dda8a",
   "metadata": {},
   "outputs": [
    {
     "name": "stdout",
     "output_type": "stream",
     "text": [
      "(143319, 1)\n",
      "(143319, 1)\n",
      "(35830, 1)\n",
      "(35830, 1)\n"
     ]
    }
   ],
   "source": [
    "x_train, x_test, y_train, y_test = train_test_split(price.reshape(-1, 1), quantity.reshape(-1, 1), test_size=0.2)\n",
    "print(x_train.shape)\n",
    "print(y_train.shape)\n",
    "print(x_test.shape)\n",
    "print(y_test.shape)"
   ]
  },
  {
   "cell_type": "code",
   "execution_count": 9,
   "id": "f6526f15",
   "metadata": {},
   "outputs": [],
   "source": [
    "model = LinearRegression().fit(x_train, y_train)"
   ]
  },
  {
   "cell_type": "code",
   "execution_count": 10,
   "id": "9b80ffbc",
   "metadata": {},
   "outputs": [
    {
     "data": {
      "text/plain": [
       "0.37134681143973214"
      ]
     },
     "execution_count": 10,
     "metadata": {},
     "output_type": "execute_result"
    }
   ],
   "source": [
    "r_sq = model.score(x_train, y_train)\n",
    "r_sq"
   ]
  },
  {
   "cell_type": "code",
   "execution_count": 11,
   "id": "da1f73e0",
   "metadata": {},
   "outputs": [
    {
     "name": "stdout",
     "output_type": "stream",
     "text": [
      "intercept: [0.60706837]\n",
      "slope: [[0.00191003]]\n"
     ]
    }
   ],
   "source": [
    "print('intercept:', model.intercept_)\n",
    "print('slope:', model.coef_)"
   ]
  },
  {
   "cell_type": "code",
   "execution_count": 12,
   "id": "8e05ad9e",
   "metadata": {},
   "outputs": [
    {
     "name": "stdout",
     "output_type": "stream",
     "text": [
      "predicted response:\n",
      "[[0.96789131]\n",
      " [1.24196088]\n",
      " [0.91248146]\n",
      " ...\n",
      " [0.86474992]\n",
      " [1.25533106]\n",
      " [0.9600411 ]]\n"
     ]
    },
    {
     "data": {
      "text/plain": [
       "(143319, 1)"
      ]
     },
     "execution_count": 12,
     "metadata": {},
     "output_type": "execute_result"
    }
   ],
   "source": [
    "y_pred = model.predict(x_train)\n",
    "print('predicted response:', y_pred, sep='\\n')\n",
    "y_pred.shape"
   ]
  },
  {
   "cell_type": "code",
   "execution_count": 13,
   "id": "6849382a",
   "metadata": {},
   "outputs": [
    {
     "data": {
      "text/plain": [
       "(35830, 1)"
      ]
     },
     "execution_count": 13,
     "metadata": {},
     "output_type": "execute_result"
    }
   ],
   "source": [
    "y_pred = y_pred[:35830]\n",
    "y_pred.shape"
   ]
  },
  {
   "cell_type": "code",
   "execution_count": 14,
   "id": "be36b600",
   "metadata": {},
   "outputs": [
    {
     "name": "stdout",
     "output_type": "stream",
     "text": [
      "explained_variance:  -0.2907\n",
      "mean_squared_log_error:  0.0281\n",
      "r2:  -0.2907\n",
      "MAE:  0.2334\n",
      "MSE:  0.4969\n",
      "RMSE:  0.7049\n"
     ]
    }
   ],
   "source": [
    "regression_results(y_test, y_pred)"
   ]
  },
  {
   "cell_type": "code",
   "execution_count": 15,
   "id": "944c8818",
   "metadata": {},
   "outputs": [
    {
     "data": {
      "text/html": [
       "<div>\n",
       "<style scoped>\n",
       "    .dataframe tbody tr th:only-of-type {\n",
       "        vertical-align: middle;\n",
       "    }\n",
       "\n",
       "    .dataframe tbody tr th {\n",
       "        vertical-align: top;\n",
       "    }\n",
       "\n",
       "    .dataframe thead th {\n",
       "        text-align: right;\n",
       "    }\n",
       "</style>\n",
       "<table border=\"1\" class=\"dataframe\">\n",
       "  <thead>\n",
       "    <tr style=\"text-align: right;\">\n",
       "      <th></th>\n",
       "      <th>y_test</th>\n",
       "      <th>y_pred</th>\n",
       "    </tr>\n",
       "  </thead>\n",
       "  <tbody>\n",
       "    <tr>\n",
       "      <th>0</th>\n",
       "      <td>1</td>\n",
       "      <td>0.967891</td>\n",
       "    </tr>\n",
       "    <tr>\n",
       "      <th>1</th>\n",
       "      <td>1</td>\n",
       "      <td>1.241961</td>\n",
       "    </tr>\n",
       "    <tr>\n",
       "      <th>2</th>\n",
       "      <td>1</td>\n",
       "      <td>0.912481</td>\n",
       "    </tr>\n",
       "    <tr>\n",
       "      <th>3</th>\n",
       "      <td>1</td>\n",
       "      <td>0.771884</td>\n",
       "    </tr>\n",
       "    <tr>\n",
       "      <th>4</th>\n",
       "      <td>1</td>\n",
       "      <td>1.752702</td>\n",
       "    </tr>\n",
       "  </tbody>\n",
       "</table>\n",
       "</div>"
      ],
      "text/plain": [
       "   y_test    y_pred\n",
       "0       1  0.967891\n",
       "1       1  1.241961\n",
       "2       1  0.912481\n",
       "3       1  0.771884\n",
       "4       1  1.752702"
      ]
     },
     "execution_count": 15,
     "metadata": {},
     "output_type": "execute_result"
    }
   ],
   "source": [
    "index = np.arange(35830)\n",
    "pred_df = pd.DataFrame(index)\n",
    "pred_df['y_test'] = y_test\n",
    "pred_df['y_pred'] = y_pred\n",
    "pred_df = pred_df.drop(columns=[0])\n",
    "pred_df.head()"
   ]
  },
  {
   "cell_type": "code",
   "execution_count": 61,
   "id": "507279f4",
   "metadata": {},
   "outputs": [
    {
     "data": {
      "text/plain": [
       "<AxesSubplot:>"
      ]
     },
     "execution_count": 61,
     "metadata": {},
     "output_type": "execute_result"
    },
    {
     "data": {
      "image/png": "[encoded data removed]",
      "text/plain": [
       "<Figure size 1080x288 with 1 Axes>"
      ]
     },
     "metadata": {},
     "output_type": "display_data"
    }
   ],
   "source": [
    "sns.set(rc={'figure.figsize':(15, 4)})\n",
    "pred_df.plot()"
   ]
  },
  {
   "cell_type": "markdown",
   "id": "5ff90c95",
   "metadata": {},
   "source": [
    "# Regressão polinomial\n",
    "\n",
    "Quando as variáveis não possuem relações lineares entre si, o modelo de regressão polinomial pode ser uma forma de conseguir ajustar modelos de reta curvilínea.\n",
    "\n",
    "Aqui, aplica-se o modelo de regressão polinomial para entender a influência do preço dos produtos na quantidade vendida.\n",
    "\n",
    "Quanto maior o grau usado no modelo, mais curvada é a reta de regressão. A seleção do grau mais adequado às variáveis pode ser feita testando diferentes graus de forma ascendente (começando pelo 1) ou de forma descendente (começando pelo 10). Como geralmente problemas se adequam melhor a graus 1 ou 2, aqui opta-se pelo modelo ascendente.\n",
    "\n",
    "Ao criar modelos de grau 1 e 2, percebe-se que o modelo de grau 1 tem menor índice de erro (RMSE), por isso ele se adequa melhor aos dados. O modelo será comparado com o de regressão linear simples no próximo tópico."
   ]
  },
  {
   "cell_type": "code",
   "execution_count": 53,
   "id": "417f1c11",
   "metadata": {},
   "outputs": [],
   "source": [
    "# escolher o modelo 1 mesmo que o 2 tenha um erro só um pouquinho maior?"
   ]
  },
  {
   "cell_type": "code",
   "execution_count": 16,
   "id": "c3d9b79e",
   "metadata": {},
   "outputs": [],
   "source": [
    "degree=1\n",
    "polyreg=make_pipeline(PolynomialFeatures(degree), LinearRegression())\n",
    "polyreg.fit(x_train, y_train)\n",
    "X_seq = np.linspace(x_train.min(),x_train.max(),300).reshape(-1,1)"
   ]
  },
  {
   "cell_type": "code",
   "execution_count": 17,
   "id": "21c49c02",
   "metadata": {},
   "outputs": [
    {
     "data": {
      "image/png": "[encoded data removed]",
      "text/plain": [
       "<Figure size 432x288 with 1 Axes>"
      ]
     },
     "metadata": {
      "needs_background": "light"
     },
     "output_type": "display_data"
    }
   ],
   "source": [
    "plt.figure()\n",
    "plt.scatter(x_train, y_train)\n",
    "plt.plot(X_seq, polyreg.predict(X_seq), color=\"black\")\n",
    "plt.title(\"Polynomial regression with degree \"+str(degree))\n",
    "plt.show()"
   ]
  },
  {
   "cell_type": "code",
   "execution_count": 18,
   "id": "7382f2e5",
   "metadata": {},
   "outputs": [
    {
     "name": "stdout",
     "output_type": "stream",
     "text": [
      "explained_variance:  -0.2907\n",
      "mean_squared_log_error:  0.0281\n",
      "r2:  -0.2907\n",
      "MAE:  0.2334\n",
      "MSE:  0.4969\n",
      "RMSE:  0.7049\n"
     ]
    }
   ],
   "source": [
    "y_pred = polyreg.predict(x_train)\n",
    "y_pred = y_pred[:35830]\n",
    "regression_results(y_test, y_pred)"
   ]
  },
  {
   "cell_type": "code",
   "execution_count": 19,
   "id": "efb73884",
   "metadata": {},
   "outputs": [],
   "source": [
    "degree=2\n",
    "polyreg=make_pipeline(PolynomialFeatures(degree), LinearRegression())\n",
    "polyreg.fit(x_train, y_train)\n",
    "X_seq = np.linspace(x_train.min(),x_train.max(),300).reshape(-1,1)"
   ]
  },
  {
   "cell_type": "code",
   "execution_count": 20,
   "id": "c2c1a7b6",
   "metadata": {},
   "outputs": [
    {
     "data": {
      "image/png": "[encoded data removed]",
      "text/plain": [
       "<Figure size 432x288 with 1 Axes>"
      ]
     },
     "metadata": {
      "needs_background": "light"
     },
     "output_type": "display_data"
    }
   ],
   "source": [
    "plt.figure()\n",
    "plt.scatter(x_train,y_train)\n",
    "plt.plot(X_seq,polyreg.predict(X_seq),color=\"black\")\n",
    "plt.title(\"Polynomial regression with degree \"+str(degree))\n",
    "plt.show()"
   ]
  },
  {
   "cell_type": "code",
   "execution_count": 21,
   "id": "01f13afa",
   "metadata": {},
   "outputs": [
    {
     "name": "stdout",
     "output_type": "stream",
     "text": [
      "explained_variance:  -0.2238\n",
      "mean_squared_log_error:  0.0192\n",
      "r2:  -0.2238\n",
      "MAE:  0.1579\n",
      "MSE:  0.4712\n",
      "RMSE:  0.6864\n"
     ]
    }
   ],
   "source": [
    "y_pred = polyreg.predict(x_train)\n",
    "y_pred = y_pred[:35830]\n",
    "regression_results(y_test, y_pred)"
   ]
  },
  {
   "cell_type": "markdown",
   "id": "c9af245d",
   "metadata": {},
   "source": [
    "# 3. Regressão linear simples vs. Regressão Polinomial\n",
    "\n",
    "Aqui, faz-se uma comparação dos resultados obtidos pelo modelo de regressão linear simples e pelo de regressão linear com grau 1.\n",
    "\n",
    "Regressão linear simples:\n",
    "r2:  -0.1639\n",
    "MAE:  0.215\n",
    "MSE:  0.7146\n",
    "RMSE:  0.8453\n",
    "\n",
    "Regressão polinomial:\n",
    "r2:  -0.1639\n",
    "MAE:  0.215\n",
    "MSE:  0.7146\n",
    "RMSE:  0.8453\n",
    "\n",
    "Ambos os modelos apresentam resultados iguais, portanto, não é possível afirmar que um modelo é melhor preditor que outro."
   ]
  },
  {
   "cell_type": "markdown",
   "id": "fe1fe73a",
   "metadata": {},
   "source": [
    "# 4. Regressão linear múltipla\n",
    "\n",
    "Esse tópico tem o objetivo de rodar um modelo de regressão linear múltipla em que a variável resposta é preço e as variáveis preditoras são: custo líquido, taxas, icms e pis.\n",
    "\n",
    "O modelo será rodade sem uma prévia padronização dos dados."
   ]
  },
  {
   "cell_type": "code",
   "execution_count": 87,
   "id": "83384bcb",
   "metadata": {},
   "outputs": [],
   "source": [
    "X = df[['liquid_cost', 'tax_substitution', 'icms', 'pis_cofins']]\n",
    "y = df[['price']]"
   ]
  },
  {
   "cell_type": "code",
   "execution_count": 88,
   "id": "3312eaa8",
   "metadata": {},
   "outputs": [
    {
     "name": "stdout",
     "output_type": "stream",
     "text": [
      "(143319, 4)\n",
      "(143319, 1)\n",
      "(35830, 4)\n",
      "(35830, 1)\n"
     ]
    }
   ],
   "source": [
    "x_train, x_test, y_train, y_test = train_test_split(X, y, test_size=0.2)\n",
    "print(x_train.shape)\n",
    "print(y_train.shape)\n",
    "print(x_test.shape)\n",
    "print(y_test.shape)"
   ]
  },
  {
   "cell_type": "code",
   "execution_count": 89,
   "id": "af413bfb",
   "metadata": {},
   "outputs": [],
   "source": [
    "regr = linear_model.LinearRegression().fit(x_train, y_train)"
   ]
  },
  {
   "cell_type": "code",
   "execution_count": 90,
   "id": "4713d146",
   "metadata": {},
   "outputs": [
    {
     "name": "stdout",
     "output_type": "stream",
     "text": [
      "[[0.09810074 2.17874669 2.4797296  6.03405819]]\n"
     ]
    }
   ],
   "source": [
    "print(regr.coef_)"
   ]
  },
  {
   "cell_type": "code",
   "execution_count": 91,
   "id": "d0b6d79b",
   "metadata": {},
   "outputs": [
    {
     "data": {
      "text/plain": [
       "(35830, 1)"
      ]
     },
     "execution_count": 91,
     "metadata": {},
     "output_type": "execute_result"
    }
   ],
   "source": [
    "y_pred = regr.predict(x_train)\n",
    "y_pred = y_pred[:35830]\n",
    "y_pred.shape"
   ]
  },
  {
   "cell_type": "code",
   "execution_count": 92,
   "id": "ad3ac188",
   "metadata": {},
   "outputs": [
    {
     "name": "stdout",
     "output_type": "stream",
     "text": [
      "explained_variance:  -1.0364\n",
      "mean_squared_log_error:  0.7019\n",
      "r2:  -1.0364\n",
      "MAE:  148.5481\n",
      "MSE:  59490.0582\n",
      "RMSE:  243.9058\n"
     ]
    }
   ],
   "source": [
    "regression_results(y_test, y_pred)"
   ]
  },
  {
   "cell_type": "markdown",
   "id": "71a86fcd",
   "metadata": {},
   "source": [
    "# 5. Padronização\n",
    "\n",
    "O mesmo modelo do tópico 4 é aplicado no tópico 5, com a diferença de que, desta vez, os dados serão padronizados antes para que a média seja 0 e o desvio padrão 1.\n",
    "\n",
    "Ao comparar os dois modelos, percebe-se que o modelo padronizado performa melhor, pois tem um maior r² e menores índices de erro. Portanto, os próximos modelos de regressão serão rodados com os dados já padronizados.\n",
    "\n",
    "Também testa-se, aqui, se há multicolinearidade nas variáveis preditoras. Caso que, se positivo, pode atrapalhar a interpretação do modelo. Como a matrix de correlação não mostra correlações altas e o FIV (fator de inflação da variância) não é maior que 10, interpreta-se que as variáveis não possuem multicolinearidade entre si."
   ]
  },
  {
   "cell_type": "code",
   "execution_count": 93,
   "id": "e75ae9ad",
   "metadata": {},
   "outputs": [
    {
     "data": {
      "text/html": [
       "<div>\n",
       "<style scoped>\n",
       "    .dataframe tbody tr th:only-of-type {\n",
       "        vertical-align: middle;\n",
       "    }\n",
       "\n",
       "    .dataframe tbody tr th {\n",
       "        vertical-align: top;\n",
       "    }\n",
       "\n",
       "    .dataframe thead th {\n",
       "        text-align: right;\n",
       "    }\n",
       "</style>\n",
       "<table border=\"1\" class=\"dataframe\">\n",
       "  <thead>\n",
       "    <tr style=\"text-align: right;\">\n",
       "      <th></th>\n",
       "      <th>0</th>\n",
       "      <th>1</th>\n",
       "      <th>2</th>\n",
       "      <th>3</th>\n",
       "    </tr>\n",
       "  </thead>\n",
       "  <tbody>\n",
       "    <tr>\n",
       "      <th>0</th>\n",
       "      <td>4.864318</td>\n",
       "      <td>6.185442</td>\n",
       "      <td>-0.776156</td>\n",
       "      <td>4.081130</td>\n",
       "    </tr>\n",
       "    <tr>\n",
       "      <th>1</th>\n",
       "      <td>4.864318</td>\n",
       "      <td>-0.635451</td>\n",
       "      <td>4.672413</td>\n",
       "      <td>4.386167</td>\n",
       "    </tr>\n",
       "    <tr>\n",
       "      <th>2</th>\n",
       "      <td>4.864318</td>\n",
       "      <td>6.185442</td>\n",
       "      <td>-0.776156</td>\n",
       "      <td>4.081130</td>\n",
       "    </tr>\n",
       "    <tr>\n",
       "      <th>3</th>\n",
       "      <td>4.864318</td>\n",
       "      <td>-0.635451</td>\n",
       "      <td>4.673424</td>\n",
       "      <td>4.081130</td>\n",
       "    </tr>\n",
       "    <tr>\n",
       "      <th>4</th>\n",
       "      <td>4.864318</td>\n",
       "      <td>6.202896</td>\n",
       "      <td>-0.776156</td>\n",
       "      <td>4.065977</td>\n",
       "    </tr>\n",
       "  </tbody>\n",
       "</table>\n",
       "</div>"
      ],
      "text/plain": [
       "          0         1         2         3\n",
       "0  4.864318  6.185442 -0.776156  4.081130\n",
       "1  4.864318 -0.635451  4.672413  4.386167\n",
       "2  4.864318  6.185442 -0.776156  4.081130\n",
       "3  4.864318 -0.635451  4.673424  4.081130\n",
       "4  4.864318  6.202896 -0.776156  4.065977"
      ]
     },
     "execution_count": 93,
     "metadata": {},
     "output_type": "execute_result"
    }
   ],
   "source": [
    "scaler = StandardScaler()\n",
    "transformed_x = scaler.fit_transform(X)\n",
    "transformed_x\n",
    "df_X = pd.DataFrame(transformed_x)\n",
    "df_X.head()"
   ]
  },
  {
   "cell_type": "markdown",
   "id": "cc520930",
   "metadata": {},
   "source": [
    "# 5.1 Multicolinearidade"
   ]
  },
  {
   "cell_type": "code",
   "execution_count": 94,
   "id": "3b393ac7",
   "metadata": {},
   "outputs": [],
   "source": [
    "corr_x = df_X.corr()"
   ]
  },
  {
   "cell_type": "code",
   "execution_count": 95,
   "id": "5d9f1d7a",
   "metadata": {},
   "outputs": [
    {
     "data": {
      "image/png": "[encoded data removed]",
      "text/plain": [
       "<Figure size 1080x432 with 2 Axes>"
      ]
     },
     "metadata": {
      "needs_background": "light"
     },
     "output_type": "display_data"
    }
   ],
   "source": [
    "plt.figure(figsize=(15, 6))\n",
    "sns.heatmap(corr_x, annot=True)\n",
    "plt.show()"
   ]
  },
  {
   "cell_type": "code",
   "execution_count": 96,
   "id": "f91adaf7",
   "metadata": {},
   "outputs": [
    {
     "data": {
      "text/plain": [
       "[2.7329583509512276, 3.707924657328653, 4.343892112618155, 2.1622387921649446]"
      ]
     },
     "execution_count": 96,
     "metadata": {},
     "output_type": "execute_result"
    }
   ],
   "source": [
    "vif = [variance_inflation_factor(df_X.values, i) for i in range(df_X.shape[1])]\n",
    "vif"
   ]
  },
  {
   "cell_type": "markdown",
   "id": "06b788c7",
   "metadata": {},
   "source": [
    "# 5.2 Modelo padronizado"
   ]
  },
  {
   "cell_type": "code",
   "execution_count": 97,
   "id": "948afbef",
   "metadata": {},
   "outputs": [],
   "source": [
    "X = df_X"
   ]
  },
  {
   "cell_type": "code",
   "execution_count": 98,
   "id": "7dcadcf8",
   "metadata": {},
   "outputs": [
    {
     "name": "stdout",
     "output_type": "stream",
     "text": [
      "(143319, 4)\n",
      "(143319, 1)\n",
      "(35830, 4)\n",
      "(35830, 1)\n"
     ]
    }
   ],
   "source": [
    "x_train, x_test, y_train, y_test = train_test_split(X, y, test_size=0.2)\n",
    "print(x_train.shape)\n",
    "print(y_train.shape)\n",
    "print(x_test.shape)\n",
    "print(y_test.shape)"
   ]
  },
  {
   "cell_type": "code",
   "execution_count": 99,
   "id": "04b8ad67",
   "metadata": {},
   "outputs": [],
   "source": [
    "regr = linear_model.LinearRegression().fit(x_train, y_train)"
   ]
  },
  {
   "cell_type": "code",
   "execution_count": 100,
   "id": "7ec9ff23",
   "metadata": {},
   "outputs": [
    {
     "data": {
      "text/plain": [
       "(35830, 1)"
      ]
     },
     "execution_count": 100,
     "metadata": {},
     "output_type": "execute_result"
    }
   ],
   "source": [
    "y_pred = regr.predict(x_train)\n",
    "y_pred = y_pred[:35830]\n",
    "y_pred.shape"
   ]
  },
  {
   "cell_type": "code",
   "execution_count": 101,
   "id": "f35dd81e",
   "metadata": {},
   "outputs": [
    {
     "name": "stdout",
     "output_type": "stream",
     "text": [
      "explained_variance:  -1.1317\n",
      "mean_squared_log_error:  0.714\n",
      "r2:  -1.1318\n",
      "MAE:  149.4967\n",
      "MSE:  56029.0584\n",
      "RMSE:  236.7046\n"
     ]
    }
   ],
   "source": [
    "regression_results(y_test, y_pred)"
   ]
  },
  {
   "cell_type": "markdown",
   "id": "ab6ac644",
   "metadata": {},
   "source": [
    "# 6. Regularização\n",
    "\n",
    "Como o objetivo do projeto é testar diferentes modelos de regressão nos dados, esse tópico tem o objetivo de aplicar regressões lineares múltiplas com índices de regularização.\n",
    "\n",
    "Para isso, divide-se o tópico nos seguintes subtópicos:\n",
    "\n",
    "* 6.1 Ridge\n",
    "* 6.2 Lasso\n",
    "* 6.3 ElasticNet\n",
    "\n",
    "Apesar dos dois primeiros modelos terem resultados bem parecidos, o modelo de Lasso possui um menor RMSE, por isso, ele é selecionado como melhor ajustado."
   ]
  },
  {
   "cell_type": "code",
   "execution_count": 51,
   "id": "b2ce6c51",
   "metadata": {},
   "outputs": [],
   "source": [
    "# elasticnet não está funcionando\n",
    "# como avaliar quando os índices do modelo são muito similares?"
   ]
  },
  {
   "cell_type": "markdown",
   "id": "3a359e31",
   "metadata": {},
   "source": [
    "# 6.1 Ridge"
   ]
  },
  {
   "cell_type": "code",
   "execution_count": 39,
   "id": "15436fff",
   "metadata": {},
   "outputs": [],
   "source": [
    "regr_ridge = Ridge(alpha=1.0)\n",
    "regr_ridge = regr_ridge.fit(x_train, y_train)"
   ]
  },
  {
   "cell_type": "code",
   "execution_count": 40,
   "id": "14380239",
   "metadata": {},
   "outputs": [
    {
     "data": {
      "text/plain": [
       "(35830, 1)"
      ]
     },
     "execution_count": 40,
     "metadata": {},
     "output_type": "execute_result"
    }
   ],
   "source": [
    "y_pred = regr_ridge.predict(x_train)\n",
    "y_pred = y_pred[:35830]\n",
    "y_pred.shape"
   ]
  },
  {
   "cell_type": "code",
   "execution_count": 41,
   "id": "9b6849de",
   "metadata": {},
   "outputs": [
    {
     "name": "stdout",
     "output_type": "stream",
     "text": [
      "explained_variance:  -0.8368\n",
      "mean_squared_log_error:  0.6885\n",
      "r2:  -0.8369\n",
      "MAE:  145.9643\n",
      "MSE:  60331.1399\n",
      "RMSE:  245.624\n"
     ]
    }
   ],
   "source": [
    "regression_results(y_test, y_pred)"
   ]
  },
  {
   "cell_type": "markdown",
   "id": "19146a80",
   "metadata": {},
   "source": [
    "# 6.2 Lasso"
   ]
  },
  {
   "cell_type": "code",
   "execution_count": 103,
   "id": "1d2ab580",
   "metadata": {},
   "outputs": [],
   "source": [
    "regr_lasso = Lasso(alpha=1.0)\n",
    "regr_lasso = regr_lasso.fit(x_train, y_train)"
   ]
  },
  {
   "cell_type": "code",
   "execution_count": 104,
   "id": "29e7f9b8",
   "metadata": {},
   "outputs": [
    {
     "data": {
      "text/plain": [
       "(35830,)"
      ]
     },
     "execution_count": 104,
     "metadata": {},
     "output_type": "execute_result"
    }
   ],
   "source": [
    "y_pred = regr_lasso.predict(x_train)\n",
    "y_pred = y_pred[:35830]\n",
    "y_pred.shape"
   ]
  },
  {
   "cell_type": "code",
   "execution_count": 105,
   "id": "fc60ff7e",
   "metadata": {},
   "outputs": [
    {
     "name": "stdout",
     "output_type": "stream",
     "text": [
      "explained_variance:  -1.1119\n",
      "mean_squared_log_error:  0.7027\n",
      "r2:  -1.112\n",
      "MAE:  148.9258\n",
      "MSE:  55507.3899\n",
      "RMSE:  235.6001\n"
     ]
    }
   ],
   "source": [
    "regression_results(y_test, y_pred)"
   ]
  },
  {
   "cell_type": "markdown",
   "id": "6f574db7",
   "metadata": {},
   "source": [
    "# 6.3 ElasticNet "
   ]
  },
  {
   "cell_type": "code",
   "execution_count": 45,
   "id": "45a0d61a",
   "metadata": {},
   "outputs": [],
   "source": [
    "x_train, y_train = make_regression(n_features=4, random_state=0)"
   ]
  },
  {
   "cell_type": "code",
   "execution_count": 46,
   "id": "5c29643b",
   "metadata": {},
   "outputs": [],
   "source": [
    "regr_en = ElasticNet(random_state=0)\n",
    "regr_en = regr_en.fit(x_train, y_train)"
   ]
  },
  {
   "cell_type": "code",
   "execution_count": 50,
   "id": "8c2f18a6",
   "metadata": {},
   "outputs": [
    {
     "data": {
      "text/plain": [
       "(100,)"
      ]
     },
     "execution_count": 50,
     "metadata": {},
     "output_type": "execute_result"
    }
   ],
   "source": [
    "# está diminnuindo o número de valores de previsão\n",
    "y_pred = regr_en.predict(x_train)\n",
    "y_pred.shape"
   ]
  },
  {
   "cell_type": "code",
   "execution_count": 49,
   "id": "d8b353c8",
   "metadata": {},
   "outputs": [],
   "source": [
    "#regression_results(y_test, y_pred)"
   ]
  },
  {
   "cell_type": "markdown",
   "id": "fa000bc2",
   "metadata": {},
   "source": [
    "# 7. Árvore de decisão\n",
    "\n",
    "Esse tópico tem o objetivo de trabalhar com árvores de decisão. Para isso, roda-se um modelo de árvore de decisão tradicional e um modelo com XGBoost.\n",
    "\n",
    "Para modelos de árvore, não se utiliza os dados padronizados, porque cada nodo lida com apenas uma variável. Portanto, a diferença de escala entre as variáveis não diferencia os resultados.\n",
    "\n",
    "Além de plotar os modelos, usa-se a função feature_importances_ para verificar a relevância de cada variável no modelo. Pelos resultados, a variável 'tax_substitution' com certeza poderia ser excluída do modelo.\n",
    "\n",
    "O modelo de árvore de decisão tradicional apresenta resultados muito melhores, porém, é necessário verificar se o modelo não está com overfitting."
   ]
  },
  {
   "cell_type": "markdown",
   "id": "ffaed7c5",
   "metadata": {},
   "source": [
    "# 7.1 Árvore de decisão tradicional"
   ]
  },
  {
   "cell_type": "code",
   "execution_count": 73,
   "id": "d9582d3b",
   "metadata": {},
   "outputs": [],
   "source": [
    "regr_tree = tree.DecisionTreeRegressor()\n",
    "regr_tree = regr_tree.fit(x_train, y_train)"
   ]
  },
  {
   "cell_type": "code",
   "execution_count": 74,
   "id": "84ff7ac8",
   "metadata": {},
   "outputs": [
    {
     "name": "stdout",
     "output_type": "stream",
     "text": [
      "[ 0.99940751  0.99840028  0.99694754  0.99687939  0.99421183  0.97014138\n",
      "  0.92587769 -1.10438024  0.93466991  0.98356606]\n"
     ]
    },
    {
     "data": {
      "text/plain": [
       "0.7695721347450657"
      ]
     },
     "execution_count": 74,
     "metadata": {},
     "output_type": "execute_result"
    }
   ],
   "source": [
    "allScores = cross_val_score(regr_tree, X, y, cv=10)\n",
    "print(allScores)\n",
    "allScores.mean()"
   ]
  },
  {
   "cell_type": "code",
   "execution_count": 75,
   "id": "3bbffa62",
   "metadata": {},
   "outputs": [
    {
     "name": "stdout",
     "output_type": "stream",
     "text": [
      "explained_variance:  0.9362\n",
      "mean_squared_log_error:  0.0022\n",
      "r2:  0.9362\n",
      "MAE:  1.8082\n",
      "MSE:  2594.4931\n",
      "RMSE:  50.9362\n"
     ]
    }
   ],
   "source": [
    "y_pred = regr_tree.predict(x_test)\n",
    "regression_results(y_test, y_pred)"
   ]
  },
  {
   "cell_type": "code",
   "execution_count": 76,
   "id": "4ad8e27e",
   "metadata": {},
   "outputs": [
    {
     "data": {
      "text/plain": [
       "array([0.11693804, 0.00180373, 0.02987575, 0.85138248])"
      ]
     },
     "execution_count": 76,
     "metadata": {},
     "output_type": "execute_result"
    }
   ],
   "source": [
    "regr_tree.feature_importances_"
   ]
  },
  {
   "cell_type": "code",
   "execution_count": 20,
   "id": "40bdd6d4",
   "metadata": {},
   "outputs": [],
   "source": [
    "# testar se não está com overfitting"
   ]
  },
  {
   "cell_type": "markdown",
   "id": "0dd94031",
   "metadata": {},
   "source": [
    "# 7.2 XGBoost"
   ]
  },
  {
   "cell_type": "code",
   "execution_count": 69,
   "id": "ab0e4d81",
   "metadata": {},
   "outputs": [],
   "source": [
    "regr_xgb = xgb.XGBRegressor(objective ='reg:squarederror', colsample_bytree = 0.3, learning_rate = 0.1,\n",
    "                max_depth = 5, alpha = 10, n_estimators = 10)\n",
    "regr_xgb = regr_xgb.fit(x_train, y_train)"
   ]
  },
  {
   "cell_type": "code",
   "execution_count": 70,
   "id": "a2985f16",
   "metadata": {},
   "outputs": [],
   "source": [
    "y_pred = regr_xgb.predict(x_test)"
   ]
  },
  {
   "cell_type": "code",
   "execution_count": 71,
   "id": "5b3462e9",
   "metadata": {},
   "outputs": [
    {
     "data": {
      "text/plain": [
       "array([0.24552654, 0.        , 0.20269765, 0.5517758 ], dtype=float32)"
      ]
     },
     "execution_count": 71,
     "metadata": {},
     "output_type": "execute_result"
    }
   ],
   "source": [
    "regr_xgb.feature_importances_"
   ]
  },
  {
   "cell_type": "code",
   "execution_count": 72,
   "id": "a5395e7d",
   "metadata": {},
   "outputs": [
    {
     "name": "stdout",
     "output_type": "stream",
     "text": [
      "explained_variance:  0.5759\n",
      "mean_squared_log_error:  0.1796\n",
      "r2:  0.4085\n",
      "MAE:  83.8603\n",
      "MSE:  24052.4696\n",
      "RMSE:  155.0886\n"
     ]
    }
   ],
   "source": [
    "regression_results(y_test, y_pred)"
   ]
  },
  {
   "cell_type": "markdown",
   "id": "32383208",
   "metadata": {},
   "source": [
    "# 8. Avaliação dos modelos\n",
    "\n",
    "Esse tópico tem o objetivo de comparar os modelos de regressão com múltiplas variáveis preditoras.\n",
    "\n",
    "Abaixo, apresenta-se os resultados dos modelos que apresentaram o melhor desempenho e serão comparados:\n",
    "\n",
    "Regressão linear múltipla com dados padronizados:\n",
    "\n",
    "explained_variance:  -0.8369\n",
    "mean_squared_log_error:  0.6885\n",
    "r2:  -0.8369\n",
    "MAE:  145.9645\n",
    "MSE:  60331.4078\n",
    "RMSE:  245.6245\n",
    "\n",
    "Regressão de Lasso:\n",
    "\n",
    "explained_variance:  -0.8223\n",
    "mean_squared_log_error:  0.6773\n",
    "r2:  -0.8223\n",
    "MAE:  145.4215\n",
    "MSE:  59852.5686\n",
    "RMSE:  244.6478\n",
    "\n",
    "Árvore de decisão tradicional:\n",
    "\n",
    "explained_variance:  0.9362\n",
    "mean_squared_log_error:  0.0022\n",
    "r2:  0.9362\n",
    "MAE:  1.807\n",
    "MSE:  2594.3799\n",
    "RMSE:  50.9351\n",
    "\n",
    "Dos três modelos, o que apresente melhores índices é a árvore de decisão tradicional. Ainda assim, é preciso verificar se o modelo está conseguindo generalizar a base de dados."
   ]
  },
  {
   "cell_type": "code",
   "execution_count": 108,
   "id": "9570705e",
   "metadata": {},
   "outputs": [],
   "source": [
    "# como interpreto os gráficos? as previsões tão bem diferentes e árvore não parece estar com overfitting"
   ]
  },
  {
   "cell_type": "code",
   "execution_count": 86,
   "id": "52663bdc",
   "metadata": {},
   "outputs": [
    {
     "data": {
      "text/plain": [
       "<AxesSubplot:>"
      ]
     },
     "execution_count": 86,
     "metadata": {},
     "output_type": "execute_result"
    },
    {
     "data": {
      "image/png": "[encoded data removed]",
      "text/plain": [
       "<Figure size 432x288 with 1 Axes>"
      ]
     },
     "metadata": {
      "needs_background": "light"
     },
     "output_type": "display_data"
    }
   ],
   "source": [
    "df_tree = pd.DataFrame(y_pred)\n",
    "df_tree['y_test'] = y_test['price']\n",
    "df_tree.plot()"
   ]
  },
  {
   "cell_type": "code",
   "execution_count": 102,
   "id": "9b2f5bf3",
   "metadata": {},
   "outputs": [
    {
     "data": {
      "text/plain": [
       "<AxesSubplot:>"
      ]
     },
     "execution_count": 102,
     "metadata": {},
     "output_type": "execute_result"
    },
    {
     "data": {
      "image/png": "[encoded data removed]",
      "text/plain": [
       "<Figure size 432x288 with 1 Axes>"
      ]
     },
     "metadata": {
      "needs_background": "light"
     },
     "output_type": "display_data"
    }
   ],
   "source": [
    "df_padr = pd.DataFrame(y_pred)\n",
    "df_padr['y_test'] = y_test['price']\n",
    "df_padr.plot()"
   ]
  },
  {
   "cell_type": "code",
   "execution_count": 106,
   "id": "39a26fce",
   "metadata": {},
   "outputs": [
    {
     "data": {
      "text/plain": [
       "<AxesSubplot:>"
      ]
     },
     "execution_count": 106,
     "metadata": {},
     "output_type": "execute_result"
    },
    {
     "data": {
      "image/png": "[encoded data removed]",
      "text/plain": [
       "<Figure size 432x288 with 1 Axes>"
      ]
     },
     "metadata": {
      "needs_background": "light"
     },
     "output_type": "display_data"
    }
   ],
   "source": [
    "df_lasso = pd.DataFrame(y_pred)\n",
    "df_lasso['y_test'] = y_test['price']\n",
    "df_lasso.plot()"
   ]
  },
  {
   "cell_type": "markdown",
   "id": "706e4e90",
   "metadata": {},
   "source": [
    "# Referências\n",
    "\n",
    "https://medium.com/analytics-vidhya/linear-regression-in-python-with-scikit-learn-e1bb8a059cd2\n",
    "\n",
    "https://towardsdatascience.com/simple-and-multiple-linear-regression-in-python-c928425168f9\n",
    "\n",
    "https://towardsdatascience.com/polynomial-regression-with-scikit-learn-what-you-should-know-bed9d3296f2\n",
    "\n",
    "https://www.w3schools.com/python/python_ml_multiple_regression.asp"
   ]
  }
 ],
 "metadata": {
  "kernelspec": {
   "display_name": "Python 3",
   "language": "python",
   "name": "python3"
  },
  "language_info": {
   "codemirror_mode": {
    "name": "ipython",
    "version": 3
   },
   "file_extension": ".py",
   "mimetype": "text/x-python",
   "name": "python",
   "nbconvert_exporter": "python",
   "pygments_lexer": "ipython3",
   "version": "3.8.8"
  }
 },
 "nbformat": 4,
 "nbformat_minor": 5
}
